{
  "nbformat": 4,
  "nbformat_minor": 0,
  "metadata": {
    "colab": {
      "name": "Batch Nearest neighbour.ipynb",
      "provenance": [],
      "collapsed_sections": [],
      "include_colab_link": true
    },
    "kernelspec": {
      "display_name": "Python 3",
      "name": "python3"
    }
  },
  "cells": [
    {
      "cell_type": "markdown",
      "metadata": {
        "id": "view-in-github",
        "colab_type": "text"
      },
      "source": [
        "<a href=\"https://colab.research.google.com/github/fabricecordelieres/Python_SR-Nearest-Neighbour-Notebooks/blob/main/Batch_Nearest_neighbour.ipynb\" target=\"_parent\"><img src=\"https://colab.research.google.com/assets/colab-badge.svg\" alt=\"Open In Colab\"/></a>"
      ]
    },
    {
      "cell_type": "markdown",
      "metadata": {
        "id": "AxgPZZqJ_-4b"
      },
      "source": [
        "# **Batch Nearest Neighbour Notebook**\n",
        "---\n",
        "_This notebook takes as an input a folder containing files with xy coordinates and computes the distance to the nearest neighbour_"
      ]
    },
    {
      "cell_type": "markdown",
      "metadata": {
        "id": "I-gDi-PPUQvq"
      },
      "source": [
        "## **Data organization**\n",
        "\n",
        "-_Input files are in csv format, with the at least columns named Barycenter X (pix) and Barycenter Y (pix)_\n"
      ]
    },
    {
      "cell_type": "markdown",
      "metadata": {
        "id": "kY5eC1EoVdpZ"
      },
      "source": [
        "## **How to run this script**\n",
        "\n",
        "1.   Have all you data ready on the Google Drive: one folder with all the files\n",
        "2.   Run each steps: press the play button, on the left side of the relevent cells\n",
        "  1. Step 1 only is interactive: it will require that acces is given by the Google Drive to the script. Simply follow the procedure explained at Step 1.1\n",
        "  2. Step 1.2 is also interactive: give the path to the folder containing all files, then run the cell.\n",
        "3. At the end of the script, for each file, a file_with-NN is created in the same folder as the source data."
      ]
    },
    {
      "cell_type": "markdown",
      "metadata": {
        "id": "5ndBkaF4IO3o"
      },
      "source": [
        "#**Step 1: Preparing the analysis, setting up some tools**"
      ]
    },
    {
      "cell_type": "code",
      "metadata": {
        "id": "1MKW1ngI_e-h",
        "colab": {
          "base_uri": "https://localhost:8080/"
        },
        "outputId": "002cad13-3ae1-4b5c-9e08-5476c0aed22c",
        "cellView": "form"
      },
      "source": [
        "#@markdown ## **_Step 1.1: Mount Google Drive_**\n",
        "#@markdown 1. Execute the following cell\n",
        "#@markdown 2. In the popup up window, accept to give access to your Google drive\n",
        "#@markdown 3. Finally, come back to this page\n",
        "\n",
        "from google.colab import drive\n",
        "from google.colab import drive\n",
        "import os\n",
        "import pandas as pd\n",
        "import math\n",
        "\n",
        "drive.mount('/content/gdrive', force_remount=True)\n"
      ],
      "execution_count": 1,
      "outputs": [
        {
          "output_type": "stream",
          "name": "stdout",
          "text": [
            "Mounted at /content/gdrive\n"
          ]
        }
      ]
    },
    {
      "cell_type": "code",
      "metadata": {
        "id": "c6JGMZI2uXcN",
        "cellView": "form"
      },
      "source": [
        "#@markdown ## **_Step 1.2: Define the input file_**\n",
        "#@markdown 1. Go to the left side, click on the folder icon\n",
        "#@markdown 2. Find the folder to analyze: navigate through gdrive/MyDrive\n",
        "#@markdown 3. On the folder of interest, left-click on dots\n",
        "#@markdown 4. Click to copy the path\n",
        "#@markdown 5. Paste it to the data_path field\n",
        "\n",
        "data_path = \"/content/gdrive/MyDrive/test_NN\" #@param {type:\"string\"}\n",
        "\n",
        "if not data_path.endswith('/'):\n",
        "  data_path+='/'"
      ],
      "execution_count": 2,
      "outputs": []
    },
    {
      "cell_type": "markdown",
      "metadata": {
        "id": "9JTGBvX3D0W5"
      },
      "source": [
        "# **Step 2: Define some classes to handle the data**"
      ]
    },
    {
      "cell_type": "code",
      "source": [
        "#-------------------------------------------------------------------------------\n",
        "def batch_NN(data_path):\n",
        "  files=os.listdir(data_path)\n",
        "  for f in files:\n",
        "    basename=f.replace(\".txt\", \"\")\n",
        "    data=pd.read_csv(data_path+f, delimiter=',')\n",
        "    dist=nearest_neighbour(data)\n",
        "    out=data.join(dist)\n",
        "    out.to_csv(data_path+basename+'_with-NN.txt')\n",
        "\n",
        "#-------------------------------------------------------------------------------\n",
        "def nearest_neighbour(data):\n",
        "  x=data['Barycenter X (pix)'].values.tolist()\n",
        "  y=data['Barycenter Y (pix)'].values.tolist()\n",
        "\n",
        "  output=[]\n",
        "\n",
        "  for i in range(0, len(x)):\n",
        "    closest_index=-1\n",
        "    min_dist=float('inf')\n",
        "    closest_x=-1\n",
        "    closest_y=-1\n",
        "    for j in range(0, len(x)):\n",
        "      if(i!=j):\n",
        "        curr_dist=get2D_Distance(x[i], y[i], x[j], y[j])\n",
        "        if(min_dist>curr_dist):\n",
        "          closest_index=j\n",
        "          closest_x=x[j]\n",
        "          closest_y=y[j]\n",
        "          min_dist=curr_dist\n",
        "    output.append([closest_index, closest_x, closest_y, min_dist])\n",
        "  return pd.DataFrame(output, columns = ['Closest_index', 'Closest_X', 'Closest_Y', 'Min_distance'])\n",
        "\n",
        "#-------------------------------------------------------------------------------\n",
        "def get2D_Distance(x1, y1, x2, y2):\n",
        "  return math.sqrt((x2-x1)*(x2-x1)+(y2-y1)*(y2-y1))\n",
        "\n",
        "\n",
        "batch_NN(data_path)"
      ],
      "metadata": {
        "id": "pWo968W_3yUW"
      },
      "execution_count": 4,
      "outputs": []
    }
  ]
}